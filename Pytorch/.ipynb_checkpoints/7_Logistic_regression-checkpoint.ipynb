{
 "cells": [
  {
   "cell_type": "markdown",
   "id": "5696f9e6-eddc-47bf-802c-e7314de63087",
   "metadata": {},
   "source": [
    "Training Pipeline: Model, Loss, and Optimizer-Predition,Gradients computation,Loss Computation,Parameter Update (all mannual)"
   ]
  },
  {
   "cell_type": "code",
   "execution_count": 1,
   "id": "34413029-ff5f-4a67-934a-28f68263b3b9",
   "metadata": {},
   "outputs": [],
   "source": [
    "\n",
    "# 1) Design model (input, output, forward pass with different layers)\n",
    "# 2) Construct loss and optimizer\n",
    "# 3) Training loop\n",
    "#       - Forward = compute prediction and loss\n",
    "#       - Backward = compute gradients\n",
    "#       - Update weightsimport torch\n",
    "\n",
    "import torch\n",
    "import torch.nn as nn\n",
    "import numpy as np\n",
    "from sklearn import datasets\n",
    "from sklearn.preprocessing import StandardScaler\n",
    "from sklearn.model_selection import train_test_split\n",
    "import matplotlib.pyplot as plt\n",
    "\n",
    "\n",
    "#prepare data\n",
    "bc=datasets.load_breast_cancer()\n",
    "x_numpy,y_numpy=bc.data,bc.target\n",
    "\n",
    "n_samples,n_features=x_numpy.shape\n",
    "\n",
    "x_train,x_test,y_train,y_test=train_test_split(x_numpy,y_numpy,test_size=0.2,random_state=1234)\n",
    "\n",
    "#scale\n",
    "sc=StandardScaler()\n",
    "x_train=sc.fit_transform(x_train)\n",
    "x_test=sc.transform(x_test)\n",
    "\n",
    "#cast to float tensor\n",
    "x_train=torch.from_numpy(x_train.astype(np.float32))\n",
    "y_train=torch.from_numpy(y_train.astype(np.float32))\n",
    "x_test=torch.from_numpy(x_test.astype(np.float32))\n",
    "y_test=torch.from_numpy(y_test.astype(np.float32))\n",
    "\n",
    "y_train=y_train.view(y_train.shape[0],1)\n",
    "y_test=y_test.view(y_test.shape[0],1)\n",
    "\n"
   ]
  },
  {
   "cell_type": "code",
   "execution_count": 2,
   "id": "079b31e3-ddf1-4042-8078-8d59928f9f79",
   "metadata": {},
   "outputs": [],
   "source": [
    "input_size = n_features\n",
    "output_size = 1\n",
    "\n",
    "\n",
    "\n",
    "#model implementation\n",
    "class LogisticRegression(nn.Module):\n",
    "    def __init__(self,input_dim,output_dim):\n",
    "        super(LogisticRegression,self).__init__()\n",
    "        self.lin=nn.Linear(input_dim,output_dim)\n",
    "    def forward(self,x):\n",
    "        y_pred=torch.sigmoid(self.lin(x))\n",
    "        return y_pred\n",
    "\n",
    "# we can call this model with samples X\n",
    "model=LogisticRegression(input_size,output_size);\n",
    "\n",
    "\n",
    "# 2) Define loss and optimizer\n",
    "learning_rate = 0.01\n",
    "\n",
    "# callable function\n",
    "criterion  =nn.BCELoss()\n",
    "\n",
    "#optimizer\n",
    "optimizer=torch.optim.SGD(model.parameters(),lr=learning_rate)\n",
    " \n",
    "    "
   ]
  },
  {
   "cell_type": "code",
   "execution_count": 3,
   "id": "ae84754d-c2b2-433e-8c63-d53629576d96",
   "metadata": {},
   "outputs": [
    {
     "name": "stdout",
     "output_type": "stream",
     "text": [
      "epoch 1, loss = 0.9611\n",
      "epoch 11, loss = 0.6897\n",
      "epoch 21, loss = 0.5400\n",
      "epoch 31, loss = 0.4524\n",
      "epoch 41, loss = 0.3954\n",
      "epoch 51, loss = 0.3551\n",
      "epoch 61, loss = 0.3249\n",
      "epoch 71, loss = 0.3013\n",
      "epoch 81, loss = 0.2823\n",
      "epoch 91, loss = 0.2665\n",
      "epoch 101, loss = 0.2531\n",
      "epoch 111, loss = 0.2417\n",
      "epoch 121, loss = 0.2317\n",
      "epoch 131, loss = 0.2229\n",
      "epoch 141, loss = 0.2150\n",
      "epoch 151, loss = 0.2080\n",
      "epoch 161, loss = 0.2016\n",
      "epoch 171, loss = 0.1958\n",
      "epoch 181, loss = 0.1905\n",
      "epoch 191, loss = 0.1857\n"
     ]
    }
   ],
   "source": [
    "#Training \n",
    "n_iterate=200\n",
    "\n",
    "for epoch in range(n_iterate):\n",
    "    # predict = forward pass with our model\n",
    "    y_predict=model(x_train)\n",
    "    \n",
    "    #loss\n",
    "    l=criterion(y_predict,y_train)\n",
    "    \n",
    "    #calculate gradient\n",
    "    l.backward()\n",
    "    \n",
    "    #update the weight\n",
    "    optimizer.step()\n",
    "    \n",
    "     # zero the gradients after updating\n",
    "    optimizer.zero_grad()\n",
    "    \n",
    "    \n",
    "    if epoch % 10 == 0:\n",
    "        # [w, b] = model.parameters() # unpack parameters\n",
    "        print(f'epoch {epoch+1}, loss = {l.item():.4f}')\n",
    "     \n"
   ]
  },
  {
   "cell_type": "code",
   "execution_count": 4,
   "id": "51ecceab-45f2-49ff-82b0-dad5324ee6da",
   "metadata": {},
   "outputs": [
    {
     "name": "stdout",
     "output_type": "stream",
     "text": [
      "accuracy: 0.9035\n"
     ]
    }
   ],
   "source": [
    "with torch.no_grad():\n",
    "    y_predicted = model(x_test)\n",
    "    y_predicted_cls = y_predicted.round()\n",
    "    acc = y_predicted_cls.eq(y_test).sum() / float(y_test.shape[0])\n",
    "    print(f'accuracy: {acc.item():.4f}')"
   ]
  },
  {
   "cell_type": "code",
   "execution_count": 5,
   "id": "0d4c4449-2da0-44e1-ab3b-4da80bd1a17b",
   "metadata": {},
   "outputs": [
    {
     "data": {
      "image/png": "[encoded data removed]",
      "text/plain": [
       "<Figure size 640x480 with 1 Axes>"
      ]
     },
     "metadata": {},
     "output_type": "display_data"
    }
   ],
   "source": [
    "# Plot\n",
    "predicted=model(x_test).detach().numpy()\n",
    "# print(sc.inverse_transform(x_train.numpy())[:,1])\n",
    "plt.plot(sc.inverse_transform(x_test.numpy())[:,0],y_test,'go')\n",
    "plt.plot(sc.inverse_transform(x_test.numpy())[:,0],predicted,'bo')\n",
    "plt.show()"
   ]
  },
  {
   "cell_type": "code",
   "execution_count": null,
   "id": "78ec684c-883d-444a-809e-f0e95e8eac20",
   "metadata": {},
   "outputs": [],
   "source": []
  }
 ],
 "metadata": {
  "kernelspec": {
   "display_name": "Python 3 (ipykernel)",
   "language": "python",
   "name": "python3"
  },
  "language_info": {
   "codemirror_mode": {
    "name": "ipython",
    "version": 3
   },
   "file_extension": ".py",
   "mimetype": "text/x-python",
   "name": "python",
   "nbconvert_exporter": "python",
   "pygments_lexer": "ipython3",
   "version": "3.10.9"
  }
 },
 "nbformat": 4,
 "nbformat_minor": 5
}
