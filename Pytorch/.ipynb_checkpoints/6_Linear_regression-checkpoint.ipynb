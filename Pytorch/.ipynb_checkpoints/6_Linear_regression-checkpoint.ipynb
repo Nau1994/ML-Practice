{
 "cells": [
  {
   "cell_type": "markdown",
   "id": "5696f9e6-eddc-47bf-802c-e7314de63087",
   "metadata": {},
   "source": [
    "Training Pipeline: Model, Loss, and Optimizer-Predition,Gradients computation,Loss Computation,Parameter Update (all mannual)"
   ]
  },
  {
   "cell_type": "code",
   "execution_count": 1,
   "id": "34413029-ff5f-4a67-934a-28f68263b3b9",
   "metadata": {},
   "outputs": [],
   "source": [
    "\n",
    "# 1) Design model (input, output, forward pass with different layers)\n",
    "# 2) Construct loss and optimizer\n",
    "# 3) Training loop\n",
    "#       - Forward = compute prediction and loss\n",
    "#       - Backward = compute gradients\n",
    "#       - Update weightsimport torch\n",
    "\n",
    "import torch\n",
    "import torch.nn as nn\n",
    "import numpy as np\n",
    "from sklearn import datasets\n",
    "import matplotlib.pyplot as plt\n",
    "\n",
    "\n",
    "#prepare data\n",
    "x_numpy,y_numpy=datasets.make_regression(n_samples=100,n_features=1,noise=20,random_state=4)\n",
    "\n",
    "#cast to float tensor\n",
    "x=torch.from_numpy(x_numpy.astype(np.float32))\n",
    "y=torch.from_numpy(y_numpy.astype(np.float32))\n",
    "\n",
    "y=y.view(y.shape[0],1)\n",
    "\n",
    "n_samples,n_features=x.shape"
   ]
  },
  {
   "cell_type": "code",
   "execution_count": 2,
   "id": "079b31e3-ddf1-4042-8078-8d59928f9f79",
   "metadata": {},
   "outputs": [],
   "source": [
    "input_size = n_features\n",
    "output_size = n_features\n",
    "\n",
    "\n",
    "\n",
    "#model implementation\n",
    "class LinearRegression(nn.Module):\n",
    "    def __init__(self,input_dim,output_dim):\n",
    "        super(LinearRegression,self).__init__()\n",
    "        self.lin=nn.Linear(input_dim,output_dim)\n",
    "    def forward(self,x):\n",
    "        return self.lin(x)\n",
    "\n",
    "# we can call this model with samples X\n",
    "model=LinearRegression(input_size,output_size);\n",
    "\n",
    "\n",
    "# 2) Define loss and optimizer\n",
    "learning_rate = 0.01\n",
    "\n",
    "# callable function\n",
    "criterion  =nn.MSELoss()\n",
    "\n",
    "#optimizer\n",
    "optimizer=torch.optim.SGD(model.parameters(),lr=learning_rate)\n",
    " \n",
    "    "
   ]
  },
  {
   "cell_type": "code",
   "execution_count": 3,
   "id": "ae84754d-c2b2-433e-8c63-d53629576d96",
   "metadata": {},
   "outputs": [
    {
     "name": "stdout",
     "output_type": "stream",
     "text": [
      "epoch 1: w = 1.976, loss = 5533.06884766\n",
      "epoch 11: w = 14.684, loss = 3863.85253906\n",
      "epoch 21: w = 25.175, loss = 2726.59936523\n",
      "epoch 31: w = 33.838, loss = 1951.60375977\n",
      "epoch 41: w = 40.990, loss = 1423.35705566\n",
      "epoch 51: w = 46.897, loss = 1063.21984863\n",
      "epoch 61: w = 51.774, loss = 817.64080811\n",
      "epoch 71: w = 55.802, loss = 650.14495850\n",
      "epoch 81: w = 59.129, loss = 535.88195801\n",
      "epoch 91: w = 61.876, loss = 457.91815186\n",
      "epoch 101: w = 64.146, loss = 404.71160889\n",
      "epoch 111: w = 66.021, loss = 368.39392090\n",
      "epoch 121: w = 67.569, loss = 343.59985352\n",
      "epoch 131: w = 68.848, loss = 326.66955566\n",
      "epoch 141: w = 69.905, loss = 315.10705566\n",
      "epoch 151: w = 70.778, loss = 307.20889282\n",
      "epoch 161: w = 71.499, loss = 301.81311035\n",
      "epoch 171: w = 72.095, loss = 298.12622070\n",
      "epoch 181: w = 72.588, loss = 295.60662842\n",
      "epoch 191: w = 72.995, loss = 293.88442993\n"
     ]
    }
   ],
   "source": [
    "#Training \n",
    "n_iterate=200\n",
    "\n",
    "for epoch in range(n_iterate):\n",
    "    # predict = forward pass with our model\n",
    "    y_predict=model(x)\n",
    "    \n",
    "    #loss\n",
    "    l=criterion (y,y_predict)\n",
    "    \n",
    "    #calculate gradient\n",
    "    l.backward()\n",
    "    \n",
    "    #update the weight\n",
    "    optimizer.step()\n",
    "    \n",
    "     # zero the gradients after updating\n",
    "    optimizer.zero_grad()\n",
    "    \n",
    "    \n",
    "    if epoch % 10 == 0:\n",
    "        [w, b] = model.parameters() # unpack parameters\n",
    "        print(f'epoch {epoch+1}: w = {w.item():.3f}, loss = {l.item():.8f}')\n",
    "     \n"
   ]
  },
  {
   "cell_type": "code",
   "execution_count": 4,
   "id": "0d4c4449-2da0-44e1-ab3b-4da80bd1a17b",
   "metadata": {},
   "outputs": [
    {
     "data": {
      "image/png": "[encoded data removed]",
      "text/plain": [
       "<Figure size 640x480 with 1 Axes>"
      ]
     },
     "metadata": {},
     "output_type": "display_data"
    }
   ],
   "source": [
    "# Plot\n",
    "predicted=model(x).detach().numpy()\n",
    "\n",
    "plt.plot(x_numpy,y_numpy,'go')\n",
    "plt.plot(x_numpy,predicted,'b')\n",
    "plt.show()"
   ]
  },
  {
   "cell_type": "code",
   "execution_count": null,
   "id": "9d90bd29-11c0-4831-9493-7de986c4f18e",
   "metadata": {},
   "outputs": [],
   "source": []
  }
 ],
 "metadata": {
  "kernelspec": {
   "display_name": "Python 3 (ipykernel)",
   "language": "python",
   "name": "python3"
  },
  "language_info": {
   "codemirror_mode": {
    "name": "ipython",
    "version": 3
   },
   "file_extension": ".py",
   "mimetype": "text/x-python",
   "name": "python",
   "nbconvert_exporter": "python",
   "pygments_lexer": "ipython3",
   "version": "3.10.9"
  }
 },
 "nbformat": 4,
 "nbformat_minor": 5
}
