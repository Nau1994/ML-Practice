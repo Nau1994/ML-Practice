{
 "cells": [
  {
   "cell_type": "markdown",
   "id": "5696f9e6-eddc-47bf-802c-e7314de63087",
   "metadata": {},
   "source": [
    "Training Pipeline: Model, Loss, and Optimizer-Predition,Gradients computation,Loss Computation,Parameter Update (all mannual)"
   ]
  },
  {
   "cell_type": "code",
   "execution_count": 7,
   "id": "34413029-ff5f-4a67-934a-28f68263b3b9",
   "metadata": {},
   "outputs": [
    {
     "name": "stdout",
     "output_type": "stream",
     "text": [
      "#samples: 4, #features: 1\n"
     ]
    }
   ],
   "source": [
    "\n",
    "# 1) Design model (input, output, forward pass with different layers)\n",
    "# 2) Construct loss and optimizer\n",
    "# 3) Training loop\n",
    "#       - Forward = compute prediction and loss\n",
    "#       - Backward = compute gradients\n",
    "#       - Update weightsimport torch\n",
    "\n",
    "import torch\n",
    "import torch.nn as nn\n",
    "\n",
    "# Linear regression\n",
    "# f = w * x \n",
    "\n",
    "# here : f = 2 * x\n",
    "\n",
    "X=torch.tensor([[1],[2],[3],[4]],dtype=torch.float32)\n",
    "Y=torch.tensor([[2],[4],[6],[8]],dtype=torch.float32)\n",
    "\n",
    "n_samples,n_features=X.shape\n",
    "print(f'#samples: {n_samples}, #features: {n_features}')\n",
    "\n",
    "X_test=torch.tensor([5],dtype=torch.float32)"
   ]
  },
  {
   "cell_type": "code",
   "execution_count": 8,
   "id": "079b31e3-ddf1-4042-8078-8d59928f9f79",
   "metadata": {},
   "outputs": [],
   "source": [
    "input_size = n_features\n",
    "output_size = n_features\n",
    "\n",
    "# we can call this model with samples X\n",
    "model=nn.Linear(input_size,output_size)\n",
    "\n",
    "# 2) Define loss and optimizer\n",
    "learning_rate = 0.01\n",
    "\n",
    "# callable function\n",
    "loss =nn.MSELoss()\n",
    "\n",
    "#optimizer\n",
    "optimizer=torch.optim.SGD(model.parameters(),lr=learning_rate)\n",
    "\n",
    "\n",
    "  \n",
    "    "
   ]
  },
  {
   "cell_type": "code",
   "execution_count": 19,
   "id": "ae84754d-c2b2-433e-8c63-d53629576d96",
   "metadata": {},
   "outputs": [
    {
     "name": "stdout",
     "output_type": "stream",
     "text": [
      "epoch 1: w = 1.975, loss = 0.00092808\n",
      "epoch 11: w = 1.975, loss = 0.00087406\n",
      "epoch 21: w = 1.976, loss = 0.00082318\n",
      "epoch 31: w = 1.977, loss = 0.00077527\n",
      "epoch 41: w = 1.978, loss = 0.00073015\n",
      "epoch 51: w = 1.978, loss = 0.00068765\n",
      "epoch 61: w = 1.979, loss = 0.00064763\n",
      "epoch 71: w = 1.980, loss = 0.00060993\n",
      "epoch 81: w = 1.980, loss = 0.00057443\n",
      "epoch 91: w = 1.981, loss = 0.00054100\n",
      "epoch 101: w = 1.981, loss = 0.00050951\n",
      "epoch 111: w = 1.982, loss = 0.00047985\n",
      "epoch 121: w = 1.982, loss = 0.00045192\n",
      "epoch 131: w = 1.983, loss = 0.00042562\n",
      "epoch 141: w = 1.983, loss = 0.00040084\n",
      "epoch 151: w = 1.984, loss = 0.00037751\n",
      "epoch 161: w = 1.984, loss = 0.00035554\n",
      "epoch 171: w = 1.985, loss = 0.00033484\n",
      "epoch 181: w = 1.985, loss = 0.00031535\n",
      "epoch 191: w = 1.986, loss = 0.00029700\n",
      "Prediction after training: f(5) = 9.971\n"
     ]
    }
   ],
   "source": [
    "#Training \n",
    "n_iterate=200\n",
    "\n",
    "for epoch in range(n_iterate):\n",
    "    # predict = forward pass with our model\n",
    "    y_predict=model(X)\n",
    "    \n",
    "    #loss\n",
    "    l=loss(Y,y_predict)\n",
    "    \n",
    "    #calculate gradient\n",
    "    l.backward()\n",
    "    \n",
    "    #update the weight\n",
    "    optimizer.step()\n",
    "    \n",
    "     # zero the gradients after updating\n",
    "    optimizer.zero_grad()\n",
    "    \n",
    "    \n",
    "    if epoch % 10 == 0:\n",
    "        [w, b] = model.parameters() # unpack parameters\n",
    "        print(f'epoch {epoch+1}: w = {w.item():.3f}, loss = {l.item():.8f}')\n",
    "     \n",
    "print(f'Prediction after training: f(5) = {model(X_test).item():.3f}')"
   ]
  },
  {
   "cell_type": "code",
   "execution_count": null,
   "id": "6184d35c-db2c-4c4a-a0f6-842815058e62",
   "metadata": {},
   "outputs": [],
   "source": []
  }
 ],
 "metadata": {
  "kernelspec": {
   "display_name": "Python 3 (ipykernel)",
   "language": "python",
   "name": "python3"
  },
  "language_info": {
   "codemirror_mode": {
    "name": "ipython",
    "version": 3
   },
   "file_extension": ".py",
   "mimetype": "text/x-python",
   "name": "python",
   "nbconvert_exporter": "python",
   "pygments_lexer": "ipython3",
   "version": "3.10.9"
  }
 },
 "nbformat": 4,
 "nbformat_minor": 5
}
