{
 "cells": [
  {
   "cell_type": "markdown",
   "id": "5696f9e6-eddc-47bf-802c-e7314de63087",
   "metadata": {},
   "source": [
    "Training Pipeline: Model, Loss, and Optimizer-Predition,Gradients computation,Loss Computation,Parameter Update (all mannual)"
   ]
  },
  {
   "cell_type": "code",
   "execution_count": 4,
   "id": "34413029-ff5f-4a67-934a-28f68263b3b9",
   "metadata": {},
   "outputs": [
    {
     "name": "stdout",
     "output_type": "stream",
     "text": [
      "#samples: 4, #features: 1\n"
     ]
    }
   ],
   "source": [
    "\n",
    "# 1) Design model (input, output, forward pass with different layers)\n",
    "# 2) Construct loss and optimizer\n",
    "# 3) Training loop\n",
    "#       - Forward = compute prediction and loss\n",
    "#       - Backward = compute gradients\n",
    "#       - Update weightsimport torch\n",
    "\n",
    "import torch\n",
    "import torch.nn as nn\n",
    "\n",
    "# Linear regression\n",
    "# f = w * x \n",
    "\n",
    "# here : f = 2 * x\n",
    "\n",
    "X=torch.tensor([[1],[2],[3],[4]],dtype=torch.float32)\n",
    "Y=torch.tensor([[2],[4],[6],[8]],dtype=torch.float32)\n",
    "\n",
    "n_samples,n_features=X.shape\n",
    "print(f'#samples: {n_samples}, #features: {n_features}')\n",
    "\n",
    "X_test=torch.tensor([5],dtype=torch.float32)"
   ]
  },
  {
   "cell_type": "code",
   "execution_count": 5,
   "id": "079b31e3-ddf1-4042-8078-8d59928f9f79",
   "metadata": {},
   "outputs": [
    {
     "name": "stdout",
     "output_type": "stream",
     "text": [
      "Prediction before training: f(5) = 4.945\n"
     ]
    }
   ],
   "source": [
    "input_size = n_features\n",
    "output_size = n_features\n",
    "\n",
    "\n",
    "\n",
    "#model implementation\n",
    "class LinearRegression(nn.Module):\n",
    "    def __init__(self,input_dim,output_dim):\n",
    "        super(LinearRegression,self).__init__()\n",
    "        self.lin=nn.Linear(input_dim,output_dim)\n",
    "    def forward(self,x):\n",
    "        return self.lin(x)\n",
    "\n",
    "# we can call this model with samples X\n",
    "model=LinearRegression(input_size,output_size);\n",
    "\n",
    "\n",
    "# 2) Define loss and optimizer\n",
    "learning_rate = 0.01\n",
    "\n",
    "# callable function\n",
    "loss =nn.MSELoss()\n",
    "\n",
    "#optimizer\n",
    "optimizer=torch.optim.SGD(model.parameters(),lr=learning_rate)\n",
    "\n",
    "print(f'Prediction before training: f(5) = {model(X_test).item():.3f}')\n",
    "  \n",
    "    "
   ]
  },
  {
   "cell_type": "code",
   "execution_count": 9,
   "id": "ae84754d-c2b2-433e-8c63-d53629576d96",
   "metadata": {},
   "outputs": [
    {
     "name": "stdout",
     "output_type": "stream",
     "text": [
      "epoch 1: w = 1.945, loss = 0.00446645\n",
      "epoch 11: w = 1.946, loss = 0.00420648\n",
      "epoch 21: w = 1.948, loss = 0.00396165\n",
      "epoch 31: w = 1.949, loss = 0.00373106\n",
      "epoch 41: w = 1.951, loss = 0.00351389\n",
      "epoch 51: w = 1.952, loss = 0.00330937\n",
      "epoch 61: w = 1.954, loss = 0.00311674\n",
      "epoch 71: w = 1.955, loss = 0.00293533\n",
      "epoch 81: w = 1.956, loss = 0.00276448\n",
      "epoch 91: w = 1.958, loss = 0.00260357\n",
      "epoch 101: w = 1.959, loss = 0.00245204\n",
      "epoch 111: w = 1.960, loss = 0.00230931\n",
      "epoch 121: w = 1.961, loss = 0.00217489\n",
      "epoch 131: w = 1.962, loss = 0.00204830\n",
      "epoch 141: w = 1.964, loss = 0.00192907\n",
      "epoch 151: w = 1.965, loss = 0.00181680\n",
      "epoch 161: w = 1.966, loss = 0.00171105\n",
      "epoch 171: w = 1.967, loss = 0.00161146\n",
      "epoch 181: w = 1.968, loss = 0.00151765\n",
      "epoch 191: w = 1.969, loss = 0.00142932\n",
      "Prediction after training: f(5) = 9.937\n"
     ]
    }
   ],
   "source": [
    "#Training \n",
    "n_iterate=200\n",
    "\n",
    "for epoch in range(n_iterate):\n",
    "    # predict = forward pass with our model\n",
    "    y_predict=model(X)\n",
    "    \n",
    "    #loss\n",
    "    l=loss(Y,y_predict)\n",
    "    \n",
    "    #calculate gradient\n",
    "    l.backward()\n",
    "    \n",
    "    #update the weight\n",
    "    optimizer.step()\n",
    "    \n",
    "     # zero the gradients after updating\n",
    "    optimizer.zero_grad()\n",
    "    \n",
    "    \n",
    "    if epoch % 10 == 0:\n",
    "        [w, b] = model.parameters() # unpack parameters\n",
    "        print(f'epoch {epoch+1}: w = {w.item():.3f}, loss = {l.item():.8f}')\n",
    "     \n",
    "print(f'Prediction after training: f(5) = {model(X_test).item():.3f}')"
   ]
  },
  {
   "cell_type": "code",
   "execution_count": null,
   "id": "6184d35c-db2c-4c4a-a0f6-842815058e62",
   "metadata": {},
   "outputs": [],
   "source": []
  }
 ],
 "metadata": {
  "kernelspec": {
   "display_name": "Python 3 (ipykernel)",
   "language": "python",
   "name": "python3"
  },
  "language_info": {
   "codemirror_mode": {
    "name": "ipython",
    "version": 3
   },
   "file_extension": ".py",
   "mimetype": "text/x-python",
   "name": "python",
   "nbconvert_exporter": "python",
   "pygments_lexer": "ipython3",
   "version": "3.10.9"
  }
 },
 "nbformat": 4,
 "nbformat_minor": 5
}
