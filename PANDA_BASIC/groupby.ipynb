{
 "cells": [
  {
   "cell_type": "code",
   "execution_count": 3,
   "id": "bf4288c3-5ade-42d9-bbdd-a5043204fd47",
   "metadata": {},
   "outputs": [
    {
     "data": {
      "text/html": [
       "<div>\n",
       "<style scoped>\n",
       "    .dataframe tbody tr th:only-of-type {\n",
       "        vertical-align: middle;\n",
       "    }\n",
       "\n",
       "    .dataframe tbody tr th {\n",
       "        vertical-align: top;\n",
       "    }\n",
       "\n",
       "    .dataframe thead th {\n",
       "        text-align: right;\n",
       "    }\n",
       "</style>\n",
       "<table border=\"1\" class=\"dataframe\">\n",
       "  <thead>\n",
       "    <tr style=\"text-align: right;\">\n",
       "      <th></th>\n",
       "      <th>Row ID</th>\n",
       "      <th>Order ID</th>\n",
       "      <th>Order Date</th>\n",
       "      <th>Order Priority</th>\n",
       "      <th>Order Quantity</th>\n",
       "      <th>Sales</th>\n",
       "      <th>Discount</th>\n",
       "      <th>Ship Mode</th>\n",
       "      <th>Profit</th>\n",
       "      <th>Unit Price</th>\n",
       "      <th>...</th>\n",
       "      <th>Customer Name</th>\n",
       "      <th>Province</th>\n",
       "      <th>Region</th>\n",
       "      <th>Customer Segment</th>\n",
       "      <th>Product Category</th>\n",
       "      <th>Product Sub-Category</th>\n",
       "      <th>Product Name</th>\n",
       "      <th>Product Container</th>\n",
       "      <th>Product Base Margin</th>\n",
       "      <th>Ship Date</th>\n",
       "    </tr>\n",
       "  </thead>\n",
       "  <tbody>\n",
       "    <tr>\n",
       "      <th>0</th>\n",
       "      <td>1</td>\n",
       "      <td>3</td>\n",
       "      <td>2010-10-13</td>\n",
       "      <td>Low</td>\n",
       "      <td>6</td>\n",
       "      <td>261.54</td>\n",
       "      <td>0.04</td>\n",
       "      <td>Regular Air</td>\n",
       "      <td>-213.25</td>\n",
       "      <td>38.94</td>\n",
       "      <td>...</td>\n",
       "      <td>Muhammed MacIntyre</td>\n",
       "      <td>Nunavut</td>\n",
       "      <td>Nunavut</td>\n",
       "      <td>Small Business</td>\n",
       "      <td>Office Supplies</td>\n",
       "      <td>Storage &amp; Organization</td>\n",
       "      <td>Eldon Base for stackable storage shelf, platinum</td>\n",
       "      <td>Large Box</td>\n",
       "      <td>0.80</td>\n",
       "      <td>2010-10-20</td>\n",
       "    </tr>\n",
       "    <tr>\n",
       "      <th>1</th>\n",
       "      <td>2</td>\n",
       "      <td>6</td>\n",
       "      <td>2012-02-20</td>\n",
       "      <td>Not Specified</td>\n",
       "      <td>2</td>\n",
       "      <td>6.93</td>\n",
       "      <td>0.01</td>\n",
       "      <td>Regular Air</td>\n",
       "      <td>-4.64</td>\n",
       "      <td>2.08</td>\n",
       "      <td>...</td>\n",
       "      <td>Ruben Dartt</td>\n",
       "      <td>Alberta</td>\n",
       "      <td>West</td>\n",
       "      <td>Corporate</td>\n",
       "      <td>Office Supplies</td>\n",
       "      <td>Scissors, Rulers and Trimmers</td>\n",
       "      <td>Kleencut® Forged Office Shears by Acme United ...</td>\n",
       "      <td>Small Pack</td>\n",
       "      <td>0.55</td>\n",
       "      <td>2012-02-21</td>\n",
       "    </tr>\n",
       "  </tbody>\n",
       "</table>\n",
       "<p>2 rows × 21 columns</p>\n",
       "</div>"
      ],
      "text/plain": [
       "   Row ID  Order ID Order Date Order Priority  Order Quantity   Sales  \\\n",
       "0       1         3 2010-10-13            Low               6  261.54   \n",
       "1       2         6 2012-02-20  Not Specified               2    6.93   \n",
       "\n",
       "   Discount    Ship Mode  Profit  Unit Price  ...       Customer Name  \\\n",
       "0      0.04  Regular Air -213.25       38.94  ...  Muhammed MacIntyre   \n",
       "1      0.01  Regular Air   -4.64        2.08  ...         Ruben Dartt   \n",
       "\n",
       "  Province   Region Customer Segment Product Category  \\\n",
       "0  Nunavut  Nunavut   Small Business  Office Supplies   \n",
       "1  Alberta     West        Corporate  Office Supplies   \n",
       "\n",
       "            Product Sub-Category  \\\n",
       "0         Storage & Organization   \n",
       "1  Scissors, Rulers and Trimmers   \n",
       "\n",
       "                                        Product Name Product Container  \\\n",
       "0   Eldon Base for stackable storage shelf, platinum         Large Box   \n",
       "1  Kleencut® Forged Office Shears by Acme United ...        Small Pack   \n",
       "\n",
       "  Product Base Margin  Ship Date  \n",
       "0                0.80 2010-10-20  \n",
       "1                0.55 2012-02-21  \n",
       "\n",
       "[2 rows x 21 columns]"
      ]
     },
     "execution_count": 3,
     "metadata": {},
     "output_type": "execute_result"
    }
   ],
   "source": [
    "import pandas as pd\n",
    "from pandas import DataFrame\n",
    "order=pd.read_excel(\"SuperstoreSales.xls\",0)\n",
    "order.head(2)"
   ]
  },
  {
   "cell_type": "code",
   "execution_count": 4,
   "id": "541116d3-960a-4f5d-83f4-31313aebdd67",
   "metadata": {},
   "outputs": [
    {
     "data": {
      "text/plain": [
       "Customer Segment\n",
       "Consumer          3.063611e+06\n",
       "Corporate         5.498190e+06\n",
       "Home Office       3.562063e+06\n",
       "Small Business    2.772298e+06\n",
       "Name: Sales, dtype: float64"
      ]
     },
     "execution_count": 4,
     "metadata": {},
     "output_type": "execute_result"
    }
   ],
   "source": [
    "order.groupby('Customer Segment').Sales.sum()"
   ]
  },
  {
   "cell_type": "code",
   "execution_count": 5,
   "id": "c1257c61-cdde-4171-a09b-628032ef8af1",
   "metadata": {},
   "outputs": [
    {
     "data": {
      "text/plain": [
       "Customer Segment\n",
       "Consumer          287959.983779\n",
       "Corporate         600014.574158\n",
       "Home Office       318256.411991\n",
       "Small Business    312865.296153\n",
       "Name: Profit, dtype: float64"
      ]
     },
     "execution_count": 5,
     "metadata": {},
     "output_type": "execute_result"
    }
   ],
   "source": [
    "order.groupby('Customer Segment').Profit.sum()"
   ]
  },
  {
   "cell_type": "code",
   "execution_count": 6,
   "id": "38ecb643-8b3c-495d-a65c-63d564d7bca0",
   "metadata": {},
   "outputs": [
    {
     "data": {
      "text/plain": [
       "Product Category\n",
       "Furniture          116739.296281\n",
       "Office Supplies    517797.974500\n",
       "Technology         884558.995300\n",
       "Name: Profit, dtype: float64"
      ]
     },
     "execution_count": 6,
     "metadata": {},
     "output_type": "execute_result"
    }
   ],
   "source": [
    "order.groupby('Product Category').Profit.sum()"
   ]
  },
  {
   "cell_type": "code",
   "execution_count": 8,
   "id": "da1e0c3c-b186-4833-8441-9b6ee7555204",
   "metadata": {},
   "outputs": [
    {
     "data": {
      "text/plain": [
       "Global High-Back Leather Tilter, Burgundy                            24\n",
       "Bevis 36 x 72 Conference Tables                                      22\n",
       "BoxOffice By Design Rectangular and Half-Moon Meeting Room Tables    22\n",
       "Master Giant Foot® Doorstop, Safety Yellow                           22\n",
       "Fiskars® Softgrip Scissors                                           22\n",
       "                                                                     ..\n",
       "Global Comet™ Stacking Armless Chair                                  1\n",
       "Verbatim DVD Rewritable Disc, Single-Sided, 4.7GB                     1\n",
       "Eldon® Executive Woodline II Desk Accessories, Mahogany               1\n",
       "Eldon Advantage® Chair Mats for Low to Medium Pile Carpets            1\n",
       "Xerox 223                                                             1\n",
       "Name: Product Name, Length: 1263, dtype: int64"
      ]
     },
     "execution_count": 8,
     "metadata": {},
     "output_type": "execute_result"
    }
   ],
   "source": [
    "order['Product Name'].value_counts()"
   ]
  },
  {
   "cell_type": "code",
   "execution_count": 9,
   "id": "ee92b298-b427-4d36-9409-2d5ad900ef58",
   "metadata": {},
   "outputs": [
    {
     "data": {
      "text/plain": [
       "1263"
      ]
     },
     "execution_count": 9,
     "metadata": {},
     "output_type": "execute_result"
    }
   ],
   "source": [
    "order['Product Name'].nunique()"
   ]
  },
  {
   "cell_type": "code",
   "execution_count": 11,
   "id": "b0b15349-4f68-4ae8-aee8-e991dc300c3b",
   "metadata": {},
   "outputs": [
    {
     "data": {
      "text/plain": [
       "Product Category\n",
       "Technology         884558.9953\n",
       "Office Supplies    517797.9745\n",
       "Name: Profit, dtype: float64"
      ]
     },
     "execution_count": 11,
     "metadata": {},
     "output_type": "execute_result"
    }
   ],
   "source": [
    "order.groupby('Product Category').Profit.sum().nlargest(2)"
   ]
  },
  {
   "cell_type": "code",
   "execution_count": 12,
   "id": "3bd7ca27-cb85-4b5e-901d-16b00ff4f17f",
   "metadata": {},
   "outputs": [
    {
     "data": {
      "text/plain": [
       "Product Category\n",
       "Furniture          116739.296281\n",
       "Office Supplies    517797.974500\n",
       "Name: Profit, dtype: float64"
      ]
     },
     "execution_count": 12,
     "metadata": {},
     "output_type": "execute_result"
    }
   ],
   "source": [
    "order.groupby('Product Category').Profit.sum().nsmallest(2)"
   ]
  },
  {
   "cell_type": "code",
   "execution_count": null,
   "id": "8eb6f700-1ffa-4644-ae96-e80d7bc57b83",
   "metadata": {},
   "outputs": [],
   "source": []
  }
 ],
 "metadata": {
  "kernelspec": {
   "display_name": "Python 3 (ipykernel)",
   "language": "python",
   "name": "python3"
  },
  "language_info": {
   "codemirror_mode": {
    "name": "ipython",
    "version": 3
   },
   "file_extension": ".py",
   "mimetype": "text/x-python",
   "name": "python",
   "nbconvert_exporter": "python",
   "pygments_lexer": "ipython3",
   "version": "3.10.9"
  }
 },
 "nbformat": 4,
 "nbformat_minor": 5
}
