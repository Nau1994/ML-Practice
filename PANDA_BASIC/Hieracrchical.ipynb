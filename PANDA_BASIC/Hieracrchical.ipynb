{
 "cells": [
  {
   "cell_type": "code",
   "execution_count": 1,
   "id": "cc0ec64a-25b6-46eb-83ca-1e16b2e8f4e9",
   "metadata": {},
   "outputs": [],
   "source": [
    "import pandas as pd\n",
    "from pandas import Series"
   ]
  },
  {
   "cell_type": "code",
   "execution_count": 3,
   "id": "7f065d73-fff0-4a85-9bba-68186158a949",
   "metadata": {},
   "outputs": [],
   "source": [
    "ser1=Series([1,2,3,4,5,6],index=[['A','B','C','A','B','C'],[1,1,1,2,2,2]])"
   ]
  },
  {
   "cell_type": "code",
   "execution_count": 12,
   "id": "c03e9886-e7b9-4c93-9780-4a8abf98b5ff",
   "metadata": {},
   "outputs": [
    {
     "data": {
      "text/plain": [
       "iddex-0  index-1\n",
       "A        1          1\n",
       "B        1          2\n",
       "C        1          3\n",
       "A        2          4\n",
       "B        2          5\n",
       "C        2          6\n",
       "dtype: int64"
      ]
     },
     "execution_count": 12,
     "metadata": {},
     "output_type": "execute_result"
    }
   ],
   "source": [
    "ser1.index.names=['iddex-0','index-1']\n",
    "ser1"
   ]
  },
  {
   "cell_type": "code",
   "execution_count": 13,
   "id": "33a88d2d-6a5b-400a-bf88-0ac6d4d0f6d3",
   "metadata": {},
   "outputs": [
    {
     "data": {
      "text/html": [
       "<div>\n",
       "<style scoped>\n",
       "    .dataframe tbody tr th:only-of-type {\n",
       "        vertical-align: middle;\n",
       "    }\n",
       "\n",
       "    .dataframe tbody tr th {\n",
       "        vertical-align: top;\n",
       "    }\n",
       "\n",
       "    .dataframe thead th {\n",
       "        text-align: right;\n",
       "    }\n",
       "</style>\n",
       "<table border=\"1\" class=\"dataframe\">\n",
       "  <thead>\n",
       "    <tr style=\"text-align: right;\">\n",
       "      <th>index-1</th>\n",
       "      <th>1</th>\n",
       "      <th>2</th>\n",
       "    </tr>\n",
       "    <tr>\n",
       "      <th>iddex-0</th>\n",
       "      <th></th>\n",
       "      <th></th>\n",
       "    </tr>\n",
       "  </thead>\n",
       "  <tbody>\n",
       "    <tr>\n",
       "      <th>A</th>\n",
       "      <td>1</td>\n",
       "      <td>4</td>\n",
       "    </tr>\n",
       "    <tr>\n",
       "      <th>B</th>\n",
       "      <td>2</td>\n",
       "      <td>5</td>\n",
       "    </tr>\n",
       "    <tr>\n",
       "      <th>C</th>\n",
       "      <td>3</td>\n",
       "      <td>6</td>\n",
       "    </tr>\n",
       "  </tbody>\n",
       "</table>\n",
       "</div>"
      ],
      "text/plain": [
       "index-1  1  2\n",
       "iddex-0      \n",
       "A        1  4\n",
       "B        2  5\n",
       "C        3  6"
      ]
     },
     "execution_count": 13,
     "metadata": {},
     "output_type": "execute_result"
    }
   ],
   "source": [
    "ser1.unstack()"
   ]
  },
  {
   "cell_type": "code",
   "execution_count": 29,
   "id": "1dc5b0c0-9f75-46bd-a341-a636530909f5",
   "metadata": {},
   "outputs": [
    {
     "data": {
      "text/plain": [
       "index-1  iddex-0\n",
       "1        A          1\n",
       "         B          2\n",
       "         C          3\n",
       "2        A          4\n",
       "         B          5\n",
       "         C          6\n",
       "dtype: int64"
      ]
     },
     "execution_count": 29,
     "metadata": {},
     "output_type": "execute_result"
    }
   ],
   "source": [
    "ser2=ser1.swaplevel()\n",
    "ser2"
   ]
  },
  {
   "cell_type": "code",
   "execution_count": 22,
   "id": "32475ee8-35c7-43e4-ba11-4a78ec78e0b2",
   "metadata": {},
   "outputs": [
    {
     "data": {
      "text/plain": [
       "index-1\n",
       "1    1\n",
       "2    4\n",
       "dtype: int64"
      ]
     },
     "execution_count": 22,
     "metadata": {},
     "output_type": "execute_result"
    }
   ],
   "source": [
    "ser2[:,'A']"
   ]
  },
  {
   "cell_type": "code",
   "execution_count": 35,
   "id": "0abbc879-c5d4-4836-aca9-a5783c3b9f98",
   "metadata": {},
   "outputs": [
    {
     "data": {
      "text/plain": [
       "index-1  iddex-0\n",
       "1        A          1\n",
       "2        A          4\n",
       "1        B          2\n",
       "2        B          5\n",
       "1        C          3\n",
       "2        C          6\n",
       "dtype: int64"
      ]
     },
     "execution_count": 35,
     "metadata": {},
     "output_type": "execute_result"
    }
   ],
   "source": [
    "ser2.sort_index(level=0)\n",
    "ser2.sort_index(level=1)"
   ]
  },
  {
   "cell_type": "code",
   "execution_count": 36,
   "id": "eb617a4a-30bd-4208-a278-8dcdf5a07e91",
   "metadata": {},
   "outputs": [
    {
     "data": {
      "text/html": [
       "<div>\n",
       "<style scoped>\n",
       "    .dataframe tbody tr th:only-of-type {\n",
       "        vertical-align: middle;\n",
       "    }\n",
       "\n",
       "    .dataframe tbody tr th {\n",
       "        vertical-align: top;\n",
       "    }\n",
       "\n",
       "    .dataframe thead th {\n",
       "        text-align: right;\n",
       "    }\n",
       "</style>\n",
       "<table border=\"1\" class=\"dataframe\">\n",
       "  <thead>\n",
       "    <tr style=\"text-align: right;\">\n",
       "      <th>iddex-0</th>\n",
       "      <th>A</th>\n",
       "      <th>B</th>\n",
       "      <th>C</th>\n",
       "    </tr>\n",
       "    <tr>\n",
       "      <th>index-1</th>\n",
       "      <th></th>\n",
       "      <th></th>\n",
       "      <th></th>\n",
       "    </tr>\n",
       "  </thead>\n",
       "  <tbody>\n",
       "    <tr>\n",
       "      <th>1</th>\n",
       "      <td>1</td>\n",
       "      <td>2</td>\n",
       "      <td>3</td>\n",
       "    </tr>\n",
       "    <tr>\n",
       "      <th>2</th>\n",
       "      <td>4</td>\n",
       "      <td>5</td>\n",
       "      <td>6</td>\n",
       "    </tr>\n",
       "  </tbody>\n",
       "</table>\n",
       "</div>"
      ],
      "text/plain": [
       "iddex-0  A  B  C\n",
       "index-1         \n",
       "1        1  2  3\n",
       "2        4  5  6"
      ]
     },
     "execution_count": 36,
     "metadata": {},
     "output_type": "execute_result"
    }
   ],
   "source": [
    "ser2.unstack()"
   ]
  },
  {
   "cell_type": "code",
   "execution_count": null,
   "id": "9ea61613-291a-4f39-b1f3-fb5482f8355e",
   "metadata": {},
   "outputs": [],
   "source": []
  }
 ],
 "metadata": {
  "kernelspec": {
   "display_name": "Python 3 (ipykernel)",
   "language": "python",
   "name": "python3"
  },
  "language_info": {
   "codemirror_mode": {
    "name": "ipython",
    "version": 3
   },
   "file_extension": ".py",
   "mimetype": "text/x-python",
   "name": "python",
   "nbconvert_exporter": "python",
   "pygments_lexer": "ipython3",
   "version": "3.10.9"
  }
 },
 "nbformat": 4,
 "nbformat_minor": 5
}
