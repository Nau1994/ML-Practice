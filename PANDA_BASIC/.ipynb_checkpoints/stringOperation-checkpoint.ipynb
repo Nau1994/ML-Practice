{
 "cells": [
  {
   "cell_type": "code",
   "execution_count": null,
   "id": "5e8a8af2-0682-4460-b0b7-e95ffbcabad5",
   "metadata": {},
   "outputs": [],
   "source": [
    "import pandas as pd\n",
    "from pandas import DataFrame\n",
    "order=pd.read_excel(\"SuperstoreSales.xls\",0)\n",
    "order.columns"
   ]
  }
 ],
 "metadata": {
  "kernelspec": {
   "display_name": "Python 3 (ipykernel)",
   "language": "python",
   "name": "python3"
  },
  "language_info": {
   "codemirror_mode": {
    "name": "ipython",
    "version": 3
   },
   "file_extension": ".py",
   "mimetype": "text/x-python",
   "name": "python",
   "nbconvert_exporter": "python",
   "pygments_lexer": "ipython3",
   "version": "3.10.9"
  }
 },
 "nbformat": 4,
 "nbformat_minor": 5
}
