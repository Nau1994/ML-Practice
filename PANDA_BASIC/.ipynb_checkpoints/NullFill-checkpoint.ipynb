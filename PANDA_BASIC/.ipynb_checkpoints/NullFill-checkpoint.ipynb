{
 "cells": [
  {
   "cell_type": "code",
   "execution_count": 5,
   "id": "546f152c-be1d-4e2c-9b1e-09bf6f1d0562",
   "metadata": {},
   "outputs": [],
   "source": [
    "import pandas as pd\n",
    "import numpy as np\n",
    "null_values=pd.Series([1,2.6,np.NaN,4,5.6,np.NaN,7,np.NaN,9.6,np.NaN,10.4])"
   ]
  },
  {
   "cell_type": "code",
   "execution_count": 6,
   "id": "a53ec510-b5aa-42de-afe8-9bae875d6857",
   "metadata": {},
   "outputs": [
    {
     "data": {
      "text/plain": [
       "0      1.0\n",
       "1      2.6\n",
       "2      NaN\n",
       "3      4.0\n",
       "4      5.6\n",
       "5      NaN\n",
       "6      7.0\n",
       "7      NaN\n",
       "8      9.6\n",
       "9      NaN\n",
       "10    10.4\n",
       "dtype: float64"
      ]
     },
     "execution_count": 6,
     "metadata": {},
     "output_type": "execute_result"
    }
   ],
   "source": [
    "null_values"
   ]
  },
  {
   "cell_type": "code",
   "execution_count": 9,
   "id": "60e08af5-24d4-4905-a8bd-7fa04c5af892",
   "metadata": {},
   "outputs": [
    {
     "data": {
      "text/plain": [
       "0      1.0\n",
       "1      2.6\n",
       "2      4.0\n",
       "3      4.0\n",
       "4      5.6\n",
       "5      7.0\n",
       "6      7.0\n",
       "7      9.6\n",
       "8      9.6\n",
       "9     10.4\n",
       "10    10.4\n",
       "dtype: float64"
      ]
     },
     "execution_count": 9,
     "metadata": {},
     "output_type": "execute_result"
    }
   ],
   "source": [
    "null_values.fillna(method='bfill')"
   ]
  },
  {
   "cell_type": "code",
   "execution_count": 11,
   "id": "ed2ea703-32b4-46a7-a22c-953bf2eaf029",
   "metadata": {},
   "outputs": [
    {
     "data": {
      "text/plain": [
       "0      1.000000\n",
       "1      2.600000\n",
       "2      5.742857\n",
       "3      4.000000\n",
       "4      5.600000\n",
       "5      5.742857\n",
       "6      7.000000\n",
       "7      5.742857\n",
       "8      9.600000\n",
       "9      5.742857\n",
       "10    10.400000\n",
       "dtype: float64"
      ]
     },
     "execution_count": 11,
     "metadata": {},
     "output_type": "execute_result"
    }
   ],
   "source": [
    "null_values.fillna(null_values.mean())"
   ]
  },
  {
   "cell_type": "code",
   "execution_count": 12,
   "id": "b450587e-854a-44c6-a37b-c8c0b1c558e0",
   "metadata": {},
   "outputs": [
    {
     "data": {
      "text/plain": [
       "0      1.0\n",
       "1      2.6\n",
       "2      3.3\n",
       "3      4.0\n",
       "4      5.6\n",
       "5      6.3\n",
       "6      7.0\n",
       "7      8.3\n",
       "8      9.6\n",
       "9     10.0\n",
       "10    10.4\n",
       "dtype: float64"
      ]
     },
     "execution_count": 12,
     "metadata": {},
     "output_type": "execute_result"
    }
   ],
   "source": [
    "null_values.interpolate()"
   ]
  },
  {
   "cell_type": "code",
   "execution_count": null,
   "id": "efe3984e-1b6d-4ee7-a685-ba3202e77ac1",
   "metadata": {},
   "outputs": [],
   "source": []
  }
 ],
 "metadata": {
  "kernelspec": {
   "display_name": "Python 3 (ipykernel)",
   "language": "python",
   "name": "python3"
  },
  "language_info": {
   "codemirror_mode": {
    "name": "ipython",
    "version": 3
   },
   "file_extension": ".py",
   "mimetype": "text/x-python",
   "name": "python",
   "nbconvert_exporter": "python",
   "pygments_lexer": "ipython3",
   "version": "3.10.9"
  }
 },
 "nbformat": 4,
 "nbformat_minor": 5
}
