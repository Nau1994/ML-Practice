{
 "cells": [
  {
   "cell_type": "code",
   "execution_count": 1,
   "id": "a1e2e6ad-5dcd-49ab-87eb-562ef464dea7",
   "metadata": {},
   "outputs": [],
   "source": [
    "import pandas as pd\n",
    "from pandas import DataFrame\n",
    "order=pd.read_excel(\"SuperstoreSales.xls\",0)"
   ]
  },
  {
   "cell_type": "code",
   "execution_count": 2,
   "id": "4c4977f1-fa45-4e9b-b58c-fd1090602b91",
   "metadata": {},
   "outputs": [
    {
     "data": {
      "text/plain": [
       "Index(['Row ID', 'Order ID', 'Order Date', 'Order Priority', 'Order Quantity',\n",
       "       'Sales', 'Discount', 'Ship Mode', 'Profit', 'Unit Price',\n",
       "       'Shipping Cost', 'Customer Name', 'Province', 'Region',\n",
       "       'Customer Segment', 'Product Category', 'Product Sub-Category',\n",
       "       'Product Name', 'Product Container', 'Product Base Margin',\n",
       "       'Ship Date'],\n",
       "      dtype='object')"
      ]
     },
     "execution_count": 2,
     "metadata": {},
     "output_type": "execute_result"
    }
   ],
   "source": [
    "order.columns"
   ]
  },
  {
   "cell_type": "code",
   "execution_count": 3,
   "id": "57acd61d-47ec-4e7e-9fae-c6529b58a54f",
   "metadata": {},
   "outputs": [
    {
     "data": {
      "text/html": [
       "<div>\n",
       "<style scoped>\n",
       "    .dataframe tbody tr th:only-of-type {\n",
       "        vertical-align: middle;\n",
       "    }\n",
       "\n",
       "    .dataframe tbody tr th {\n",
       "        vertical-align: top;\n",
       "    }\n",
       "\n",
       "    .dataframe thead th {\n",
       "        text-align: right;\n",
       "    }\n",
       "</style>\n",
       "<table border=\"1\" class=\"dataframe\">\n",
       "  <thead>\n",
       "    <tr style=\"text-align: right;\">\n",
       "      <th></th>\n",
       "      <th>Row ID</th>\n",
       "      <th>Order ID</th>\n",
       "      <th>Order Date</th>\n",
       "      <th>Order Priority</th>\n",
       "      <th>Order Quantity</th>\n",
       "      <th>Sales</th>\n",
       "      <th>Discount</th>\n",
       "      <th>Ship Mode</th>\n",
       "      <th>Profit</th>\n",
       "      <th>Unit Price</th>\n",
       "      <th>...</th>\n",
       "      <th>Customer Name</th>\n",
       "      <th>Province</th>\n",
       "      <th>Region</th>\n",
       "      <th>Customer Segment</th>\n",
       "      <th>Product Category</th>\n",
       "      <th>Product Sub-Category</th>\n",
       "      <th>Product Name</th>\n",
       "      <th>Product Container</th>\n",
       "      <th>Product Base Margin</th>\n",
       "      <th>Ship Date</th>\n",
       "    </tr>\n",
       "  </thead>\n",
       "  <tbody>\n",
       "    <tr>\n",
       "      <th>0</th>\n",
       "      <td>1</td>\n",
       "      <td>3</td>\n",
       "      <td>2010-10-13</td>\n",
       "      <td>Low</td>\n",
       "      <td>6</td>\n",
       "      <td>261.54</td>\n",
       "      <td>0.04</td>\n",
       "      <td>Regular Air</td>\n",
       "      <td>-213.25</td>\n",
       "      <td>38.94</td>\n",
       "      <td>...</td>\n",
       "      <td>Muhammed MacIntyre</td>\n",
       "      <td>Nunavut</td>\n",
       "      <td>Nunavut</td>\n",
       "      <td>Small Business</td>\n",
       "      <td>Office Supplies</td>\n",
       "      <td>Storage &amp; Organization</td>\n",
       "      <td>Eldon Base for stackable storage shelf, platinum</td>\n",
       "      <td>Large Box</td>\n",
       "      <td>0.80</td>\n",
       "      <td>2010-10-20</td>\n",
       "    </tr>\n",
       "    <tr>\n",
       "      <th>1</th>\n",
       "      <td>2</td>\n",
       "      <td>6</td>\n",
       "      <td>2012-02-20</td>\n",
       "      <td>Not Specified</td>\n",
       "      <td>2</td>\n",
       "      <td>6.93</td>\n",
       "      <td>0.01</td>\n",
       "      <td>Regular Air</td>\n",
       "      <td>-4.64</td>\n",
       "      <td>2.08</td>\n",
       "      <td>...</td>\n",
       "      <td>Ruben Dartt</td>\n",
       "      <td>Alberta</td>\n",
       "      <td>West</td>\n",
       "      <td>Corporate</td>\n",
       "      <td>Office Supplies</td>\n",
       "      <td>Scissors, Rulers and Trimmers</td>\n",
       "      <td>Kleencut® Forged Office Shears by Acme United ...</td>\n",
       "      <td>Small Pack</td>\n",
       "      <td>0.55</td>\n",
       "      <td>2012-02-21</td>\n",
       "    </tr>\n",
       "  </tbody>\n",
       "</table>\n",
       "<p>2 rows × 21 columns</p>\n",
       "</div>"
      ],
      "text/plain": [
       "   Row ID  Order ID Order Date Order Priority  Order Quantity   Sales  \\\n",
       "0       1         3 2010-10-13            Low               6  261.54   \n",
       "1       2         6 2012-02-20  Not Specified               2    6.93   \n",
       "\n",
       "   Discount    Ship Mode  Profit  Unit Price  ...       Customer Name  \\\n",
       "0      0.04  Regular Air -213.25       38.94  ...  Muhammed MacIntyre   \n",
       "1      0.01  Regular Air   -4.64        2.08  ...         Ruben Dartt   \n",
       "\n",
       "  Province   Region Customer Segment Product Category  \\\n",
       "0  Nunavut  Nunavut   Small Business  Office Supplies   \n",
       "1  Alberta     West        Corporate  Office Supplies   \n",
       "\n",
       "            Product Sub-Category  \\\n",
       "0         Storage & Organization   \n",
       "1  Scissors, Rulers and Trimmers   \n",
       "\n",
       "                                        Product Name Product Container  \\\n",
       "0   Eldon Base for stackable storage shelf, platinum         Large Box   \n",
       "1  Kleencut® Forged Office Shears by Acme United ...        Small Pack   \n",
       "\n",
       "  Product Base Margin  Ship Date  \n",
       "0                0.80 2010-10-20  \n",
       "1                0.55 2012-02-21  \n",
       "\n",
       "[2 rows x 21 columns]"
      ]
     },
     "execution_count": 3,
     "metadata": {},
     "output_type": "execute_result"
    }
   ],
   "source": [
    "order.head(2)"
   ]
  },
  {
   "cell_type": "code",
   "execution_count": 4,
   "id": "84081dfa-56a4-46d7-b37a-4b672c60aa48",
   "metadata": {},
   "outputs": [
    {
     "data": {
      "text/plain": [
       "0        38.98\n",
       "1         2.09\n",
       "2       107.60\n",
       "3        70.98\n",
       "4         8.03\n",
       "         ...  \n",
       "8385    116.05\n",
       "8386      9.47\n",
       "8387      9.21\n",
       "8388     31.00\n",
       "8389      3.19\n",
       "Length: 8390, dtype: float64"
      ]
     },
     "execution_count": 4,
     "metadata": {},
     "output_type": "execute_result"
    }
   ],
   "source": [
    "order['Discount']+order['Unit Price']"
   ]
  },
  {
   "cell_type": "code",
   "execution_count": 5,
   "id": "3c12ed21-94ed-4db4-bf14-f1dc4ed4e5ec",
   "metadata": {},
   "outputs": [
    {
     "data": {
      "text/plain": [
       "array([ 38.94,   2.08, 107.53, ...,   9.11,  30.98,   3.14])"
      ]
     },
     "execution_count": 5,
     "metadata": {},
     "output_type": "execute_result"
    }
   ],
   "source": [
    "order['Unit Price'].values"
   ]
  },
  {
   "cell_type": "code",
   "execution_count": null,
   "id": "ece658bc-080b-4c73-b99d-28e21f5ea636",
   "metadata": {},
   "outputs": [],
   "source": []
  }
 ],
 "metadata": {
  "kernelspec": {
   "display_name": "Python 3 (ipykernel)",
   "language": "python",
   "name": "python3"
  },
  "language_info": {
   "codemirror_mode": {
    "name": "ipython",
    "version": 3
   },
   "file_extension": ".py",
   "mimetype": "text/x-python",
   "name": "python",
   "nbconvert_exporter": "python",
   "pygments_lexer": "ipython3",
   "version": "3.10.9"
  }
 },
 "nbformat": 4,
 "nbformat_minor": 5
}
