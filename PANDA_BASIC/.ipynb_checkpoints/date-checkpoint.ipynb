{
 "cells": [
  {
   "cell_type": "code",
   "execution_count": 24,
   "id": "f2226183-d86d-4f09-be48-361196976a9f",
   "metadata": {},
   "outputs": [
    {
     "data": {
      "text/plain": [
       "Index(['Row ID', 'Order ID', 'Order Date', 'Order Priority', 'Order Quantity',\n",
       "       'Sales', 'Discount', 'Ship Mode', 'Profit', 'Unit Price',\n",
       "       'Shipping Cost', 'Customer Name', 'Province', 'Region',\n",
       "       'Customer Segment', 'Product Category', 'Product Sub-Category',\n",
       "       'Product Name', 'Product Container', 'Product Base Margin',\n",
       "       'Ship Date'],\n",
       "      dtype='object')"
      ]
     },
     "execution_count": 24,
     "metadata": {},
     "output_type": "execute_result"
    }
   ],
   "source": [
    "import pandas as pd\n",
    "from pandas import DataFrame\n",
    "order=pd.read_excel(\"SuperstoreSales.xls\",0)\n",
    "order.columns"
   ]
  },
  {
   "cell_type": "code",
   "execution_count": 25,
   "id": "8c718256-07a4-418a-9aab-b65a4952c4ca",
   "metadata": {},
   "outputs": [
    {
     "data": {
      "text/plain": [
       "Row ID                           int64\n",
       "Order ID                         int64\n",
       "Order Date              datetime64[ns]\n",
       "Order Priority                  object\n",
       "Order Quantity                   int64\n",
       "Sales                          float64\n",
       "Discount                       float64\n",
       "Ship Mode                       object\n",
       "Profit                         float64\n",
       "Unit Price                     float64\n",
       "Shipping Cost                  float64\n",
       "Customer Name                   object\n",
       "Province                        object\n",
       "Region                          object\n",
       "Customer Segment                object\n",
       "Product Category                object\n",
       "Product Sub-Category            object\n",
       "Product Name                    object\n",
       "Product Container               object\n",
       "Product Base Margin            float64\n",
       "Ship Date               datetime64[ns]\n",
       "dtype: object"
      ]
     },
     "execution_count": 25,
     "metadata": {},
     "output_type": "execute_result"
    }
   ],
   "source": [
    "order.dtypes"
   ]
  },
  {
   "cell_type": "code",
   "execution_count": 4,
   "id": "2806485c-4949-4b88-ba1d-7ffc1fc580c1",
   "metadata": {},
   "outputs": [
    {
     "data": {
      "text/plain": [
       "0    286\n",
       "1     51\n",
       "Name: Order Date, dtype: int64"
      ]
     },
     "execution_count": 4,
     "metadata": {},
     "output_type": "execute_result"
    }
   ],
   "source": [
    "order['Order Date'].dt.dayofyear.head(2)"
   ]
  },
  {
   "cell_type": "code",
   "execution_count": 5,
   "id": "4c3235c4-ed1e-42d4-aba2-c28cf527bb55",
   "metadata": {},
   "outputs": [
    {
     "data": {
      "text/plain": [
       "0    2\n",
       "1    0\n",
       "Name: Order Date, dtype: int64"
      ]
     },
     "execution_count": 5,
     "metadata": {},
     "output_type": "execute_result"
    }
   ],
   "source": [
    "order['Order Date'].dt.dayofweek.head(2)"
   ]
  },
  {
   "cell_type": "code",
   "execution_count": 6,
   "id": "5b2723e4-5f79-4bf2-8684-aa3b8c1ed375",
   "metadata": {},
   "outputs": [
    {
     "name": "stderr",
     "output_type": "stream",
     "text": [
      "C:\\Users\\naush\\AppData\\Local\\Temp\\ipykernel_14024\\2425270986.py:1: FutureWarning: Series.dt.weekofyear and Series.dt.week have been deprecated. Please use Series.dt.isocalendar().week instead.\n",
      "  order['Order Date'].dt.weekofyear.head(2)\n"
     ]
    },
    {
     "data": {
      "text/plain": [
       "0    41\n",
       "1     8\n",
       "Name: Order Date, dtype: int64"
      ]
     },
     "execution_count": 6,
     "metadata": {},
     "output_type": "execute_result"
    }
   ],
   "source": [
    "order['Order Date'].dt.weekofyear.head(2)"
   ]
  },
  {
   "cell_type": "code",
   "execution_count": 34,
   "id": "31166143-6d7b-475c-98d1-ae1b70f12e8f",
   "metadata": {},
   "outputs": [
    {
     "data": {
      "text/plain": [
       "0    Wednesday\n",
       "1       Monday\n",
       "Name: Order Date, dtype: object"
      ]
     },
     "execution_count": 34,
     "metadata": {},
     "output_type": "execute_result"
    }
   ],
   "source": [
    "order['Order Date'].dt.day_name().head(2)"
   ]
  },
  {
   "cell_type": "code",
   "execution_count": 35,
   "id": "ec57e7a8-8182-47cd-b7bf-c14896f37da0",
   "metadata": {},
   "outputs": [
    {
     "name": "stderr",
     "output_type": "stream",
     "text": [
      "C:\\Users\\naush\\AppData\\Local\\Temp\\ipykernel_14024\\1558358445.py:1: UserWarning: Pandas doesn't allow columns to be created via a new attribute name - see https://pandas.pydata.org/pandas-docs/stable/indexing.html#attribute-access\n",
      "  order.year=order['Order Date'].dt.year\n"
     ]
    }
   ],
   "source": [
    "order.year=order['Order Date'].dt.year"
   ]
  },
  {
   "cell_type": "code",
   "execution_count": 36,
   "id": "980889c6-40d8-440b-b436-05c17837f19f",
   "metadata": {},
   "outputs": [
    {
     "data": {
      "text/plain": [
       "2009    2152\n",
       "2010    2141\n",
       "2012    2100\n",
       "2011    1997\n",
       "Name: Order Date, dtype: int64"
      ]
     },
     "execution_count": 36,
     "metadata": {},
     "output_type": "execute_result"
    }
   ],
   "source": [
    "order.year.value_counts()"
   ]
  },
  {
   "cell_type": "code",
   "execution_count": null,
   "id": "043f5ce5-9b8c-4700-a54d-41f1edf9d93a",
   "metadata": {},
   "outputs": [],
   "source": []
  }
 ],
 "metadata": {
  "kernelspec": {
   "display_name": "Python 3 (ipykernel)",
   "language": "python",
   "name": "python3"
  },
  "language_info": {
   "codemirror_mode": {
    "name": "ipython",
    "version": 3
   },
   "file_extension": ".py",
   "mimetype": "text/x-python",
   "name": "python",
   "nbconvert_exporter": "python",
   "pygments_lexer": "ipython3",
   "version": "3.10.9"
  }
 },
 "nbformat": 4,
 "nbformat_minor": 5
}
