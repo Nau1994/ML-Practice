{
 "cells": [
  {
   "cell_type": "code",
   "execution_count": 1,
   "id": "5e8a8af2-0682-4460-b0b7-e95ffbcabad5",
   "metadata": {},
   "outputs": [
    {
     "data": {
      "text/plain": [
       "Index(['Row ID', 'Order ID', 'Order Date', 'Order Priority', 'Order Quantity',\n",
       "       'Sales', 'Discount', 'Ship Mode', 'Profit', 'Unit Price',\n",
       "       'Shipping Cost', 'Customer Name', 'Province', 'Region',\n",
       "       'Customer Segment', 'Product Category', 'Product Sub-Category',\n",
       "       'Product Name', 'Product Container', 'Product Base Margin',\n",
       "       'Ship Date'],\n",
       "      dtype='object')"
      ]
     },
     "execution_count": 1,
     "metadata": {},
     "output_type": "execute_result"
    }
   ],
   "source": [
    "import pandas as pd\n",
    "from pandas import DataFrame\n",
    "order=pd.read_excel(\"SuperstoreSales.xls\",0)\n",
    "order.columns"
   ]
  },
  {
   "cell_type": "code",
   "execution_count": 2,
   "id": "56684e60-b1e4-4886-adf0-263e06201702",
   "metadata": {},
   "outputs": [
    {
     "data": {
      "text/plain": [
       "0                 LOW\n",
       "1       NOT SPECIFIED\n",
       "2                HIGH\n",
       "3                HIGH\n",
       "4                HIGH\n",
       "            ...      \n",
       "8385              LOW\n",
       "8386              LOW\n",
       "8387    NOT SPECIFIED\n",
       "8388             HIGH\n",
       "8389           MEDIUM\n",
       "Name: Order Priority, Length: 8390, dtype: object"
      ]
     },
     "execution_count": 2,
     "metadata": {},
     "output_type": "execute_result"
    }
   ],
   "source": [
    "order['Order Priority'].str.upper()"
   ]
  },
  {
   "cell_type": "code",
   "execution_count": 3,
   "id": "c14cae43-7002-4ab9-b2d3-0c208565312c",
   "metadata": {},
   "outputs": [
    {
     "data": {
      "text/plain": [
       "0       False\n",
       "1       False\n",
       "2       False\n",
       "3       False\n",
       "4       False\n",
       "        ...  \n",
       "8385    False\n",
       "8386    False\n",
       "8387    False\n",
       "8388    False\n",
       "8389    False\n",
       "Name: Order Priority, Length: 8390, dtype: bool"
      ]
     },
     "execution_count": 3,
     "metadata": {},
     "output_type": "execute_result"
    }
   ],
   "source": [
    "order['Order Priority'].str.isupper()"
   ]
  },
  {
   "cell_type": "code",
   "execution_count": 4,
   "id": "e56ea197-d9ef-4ff4-a6c1-313272a35507",
   "metadata": {},
   "outputs": [
    {
     "data": {
      "text/plain": [
       "0       True\n",
       "1       True\n",
       "2       True\n",
       "3       True\n",
       "4       True\n",
       "        ... \n",
       "8385    True\n",
       "8386    True\n",
       "8387    True\n",
       "8388    True\n",
       "8389    True\n",
       "Name: Order Priority, Length: 8390, dtype: bool"
      ]
     },
     "execution_count": 4,
     "metadata": {},
     "output_type": "execute_result"
    }
   ],
   "source": [
    "order['Order Priority'].str.istitle()"
   ]
  },
  {
   "cell_type": "code",
   "execution_count": 6,
   "id": "ade48151-9a9a-4e99-b1e8-d3b23e1db31f",
   "metadata": {},
   "outputs": [
    {
     "data": {
      "text/plain": [
       "0       False\n",
       "1        True\n",
       "2       False\n",
       "3       False\n",
       "4       False\n",
       "        ...  \n",
       "8385    False\n",
       "8386    False\n",
       "8387     True\n",
       "8388    False\n",
       "8389    False\n",
       "Name: Order Priority, Length: 8390, dtype: bool"
      ]
     },
     "execution_count": 6,
     "metadata": {},
     "output_type": "execute_result"
    }
   ],
   "source": [
    "order['Order Priority']=order['Order Priority'].str.upper()\n",
    "order['Order Priority'].str.contains('NOT SPECIFIED')"
   ]
  },
  {
   "cell_type": "code",
   "execution_count": 8,
   "id": "09433bba-5c7c-41ea-a613-37015d1571ae",
   "metadata": {},
   "outputs": [
    {
     "data": {
      "text/plain": [
       "0          LOW\n",
       "1           NA\n",
       "2         HIGH\n",
       "3         HIGH\n",
       "4         HIGH\n",
       "         ...  \n",
       "8385       LOW\n",
       "8386       LOW\n",
       "8387        NA\n",
       "8388      HIGH\n",
       "8389    MEDIUM\n",
       "Name: Order Priority, Length: 8390, dtype: object"
      ]
     },
     "execution_count": 8,
     "metadata": {},
     "output_type": "execute_result"
    }
   ],
   "source": [
    "order['Order Priority'].str.replace('NOT SPECIFIED','NA')"
   ]
  },
  {
   "cell_type": "code",
   "execution_count": null,
   "id": "6bb8f214-b0d1-450c-9f9f-7f033d9664a4",
   "metadata": {},
   "outputs": [],
   "source": []
  }
 ],
 "metadata": {
  "kernelspec": {
   "display_name": "Python 3 (ipykernel)",
   "language": "python",
   "name": "python3"
  },
  "language_info": {
   "codemirror_mode": {
    "name": "ipython",
    "version": 3
   },
   "file_extension": ".py",
   "mimetype": "text/x-python",
   "name": "python",
   "nbconvert_exporter": "python",
   "pygments_lexer": "ipython3",
   "version": "3.10.9"
  }
 },
 "nbformat": 4,
 "nbformat_minor": 5
}
