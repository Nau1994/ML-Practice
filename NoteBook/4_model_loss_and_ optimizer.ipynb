{
 "cells": [
  {
   "cell_type": "markdown",
   "id": "5696f9e6-eddc-47bf-802c-e7314de63087",
   "metadata": {},
   "source": [
    "Training Pipeline: Model, Loss, and Optimizer-Predition,Gradients computation,Loss Computation,Parameter Update (all mannual)"
   ]
  },
  {
   "cell_type": "code",
   "execution_count": 7,
   "id": "34413029-ff5f-4a67-934a-28f68263b3b9",
   "metadata": {},
   "outputs": [
    {
     "name": "stdout",
     "output_type": "stream",
     "text": [
      "#samples: 4, #features: 1\n"
     ]
    }
   ],
   "source": [
    "\n",
    "# 1) Design model (input, output, forward pass with different layers)\n",
    "# 2) Construct loss and optimizer\n",
    "# 3) Training loop\n",
    "#       - Forward = compute prediction and loss\n",
    "#       - Backward = compute gradients\n",
    "#       - Update weightsimport torch\n",
    "\n",
    "import torch\n",
    "import torch.nn as nn\n",
    "\n",
    "# Linear regression\n",
    "# f = w * x \n",
    "\n",
    "# here : f = 2 * x\n",
    "\n",
    "X=torch.tensor([[1],[2],[3],[4]],dtype=torch.float32)\n",
    "Y=torch.tensor([[2],[4],[6],[8]],dtype=torch.float32)\n",
    "\n",
    "n_samples,n_features=X.shape\n",
    "print(f'#samples: {n_samples}, #features: {n_features}')\n",
    "\n",
    "X_test=torch.tensor([5],dtype=torch.float32)"
   ]
  },
  {
   "cell_type": "code",
   "execution_count": 22,
   "id": "079b31e3-ddf1-4042-8078-8d59928f9f79",
   "metadata": {},
   "outputs": [
    {
     "name": "stdout",
     "output_type": "stream",
     "text": [
      "Prediction before training: f(5) = 1.715\n"
     ]
    }
   ],
   "source": [
    "input_size = n_features\n",
    "output_size = n_features\n",
    "\n",
    "# we can call this model with samples X\n",
    "model=nn.Linear(input_size,output_size)\n",
    "\n",
    "# 2) Define loss and optimizer\n",
    "learning_rate = 0.01\n",
    "\n",
    "# callable function\n",
    "loss =nn.MSELoss()\n",
    "\n",
    "#optimizer\n",
    "optimizer=torch.optim.SGD(model.parameters(),lr=learning_rate)\n",
    "\n",
    "print(f'Prediction before training: f(5) = {model(X_test).item():.3f}')\n",
    "  \n",
    "    "
   ]
  },
  {
   "cell_type": "code",
   "execution_count": 23,
   "id": "ae84754d-c2b2-433e-8c63-d53629576d96",
   "metadata": {},
   "outputs": [
    {
     "name": "stdout",
     "output_type": "stream",
     "text": [
      "epoch 1: w = 0.432, loss = 18.35169601\n",
      "epoch 11: w = 1.419, loss = 0.69432443\n",
      "epoch 21: w = 1.587, loss = 0.22470829\n",
      "epoch 31: w = 1.624, loss = 0.20052460\n",
      "epoch 41: w = 1.639, loss = 0.18856584\n",
      "epoch 51: w = 1.650, loss = 0.17758293\n",
      "epoch 61: w = 1.661, loss = 0.16724642\n",
      "epoch 71: w = 1.671, loss = 0.15751179\n",
      "epoch 81: w = 1.680, loss = 0.14834383\n",
      "epoch 91: w = 1.690, loss = 0.13970944\n",
      "epoch 101: w = 1.699, loss = 0.13157763\n",
      "epoch 111: w = 1.708, loss = 0.12391914\n",
      "epoch 121: w = 1.717, loss = 0.11670631\n",
      "epoch 131: w = 1.725, loss = 0.10991342\n",
      "epoch 141: w = 1.733, loss = 0.10351589\n",
      "epoch 151: w = 1.741, loss = 0.09749073\n",
      "epoch 161: w = 1.749, loss = 0.09181625\n",
      "epoch 171: w = 1.756, loss = 0.08647205\n",
      "epoch 181: w = 1.763, loss = 0.08143888\n",
      "epoch 191: w = 1.770, loss = 0.07669877\n",
      "Prediction after training: f(5) = 9.539\n"
     ]
    }
   ],
   "source": [
    "#Training \n",
    "n_iterate=200\n",
    "\n",
    "for epoch in range(n_iterate):\n",
    "    # predict = forward pass with our model\n",
    "    y_predict=model(X)\n",
    "    \n",
    "    #loss\n",
    "    l=loss(Y,y_predict)\n",
    "    \n",
    "    #calculate gradient\n",
    "    l.backward()\n",
    "    \n",
    "    #update the weight\n",
    "    optimizer.step()\n",
    "    \n",
    "     # zero the gradients after updating\n",
    "    optimizer.zero_grad()\n",
    "    \n",
    "    \n",
    "    if epoch % 10 == 0:\n",
    "        [w, b] = model.parameters() # unpack parameters\n",
    "        print(f'epoch {epoch+1}: w = {w.item():.3f}, loss = {l.item():.8f}')\n",
    "     \n",
    "print(f'Prediction after training: f(5) = {model(X_test).item():.3f}')"
   ]
  },
  {
   "cell_type": "code",
   "execution_count": null,
   "id": "6184d35c-db2c-4c4a-a0f6-842815058e62",
   "metadata": {},
   "outputs": [],
   "source": []
  }
 ],
 "metadata": {
  "kernelspec": {
   "display_name": "Python 3 (ipykernel)",
   "language": "python",
   "name": "python3"
  },
  "language_info": {
   "codemirror_mode": {
    "name": "ipython",
    "version": 3
   },
   "file_extension": ".py",
   "mimetype": "text/x-python",
   "name": "python",
   "nbconvert_exporter": "python",
   "pygments_lexer": "ipython3",
   "version": "3.10.9"
  }
 },
 "nbformat": 4,
 "nbformat_minor": 5
}
