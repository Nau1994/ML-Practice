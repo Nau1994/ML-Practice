{
 "cells": [
  {
   "cell_type": "markdown",
   "id": "5696f9e6-eddc-47bf-802c-e7314de63087",
   "metadata": {},
   "source": [
    "Training Pipeline: Model, Loss, and Optimizer-Predition,Gradients computation,Loss Computation,Parameter Update (all mannual)"
   ]
  },
  {
   "cell_type": "code",
   "execution_count": 30,
   "id": "079b31e3-ddf1-4042-8078-8d59928f9f79",
   "metadata": {},
   "outputs": [
    {
     "name": "stdout",
     "output_type": "stream",
     "text": [
      "Prediction before training: f(5) = 0.000\n"
     ]
    }
   ],
   "source": [
    "import numpy as np \n",
    "\n",
    "# Compute every step manually\n",
    "\n",
    "# Linear regression\n",
    "# f = w * x \n",
    "\n",
    "# here : f = 2 * x\n",
    "\n",
    "X=np.array([1,2,3,4],dtype=np.float32)\n",
    "Y=np.array([2,4,6,8],dtype=np.float32)\n",
    "\n",
    "w=0.0\n",
    "\n",
    "# model output\n",
    "def forward(x):\n",
    "    return w*x\n",
    "\n",
    "#Loss=MSE\n",
    "#j=MSE=1/N * (x*w-y)**2\n",
    "def loss(y,y_pred):\n",
    "    return ((y_pred-y)**2).mean()\n",
    "\n",
    "\n",
    "#dj/dw =1/N * (2*x*(x*w - y))\n",
    "def gradient(x,y,y_pred):\n",
    "    return np.mean(2*x*(y_pred-y))\n",
    "\n",
    "print(f'Prediction before training: f(5) = {forward(5):.3f}')\n",
    "\n",
    "  \n",
    "    "
   ]
  },
  {
   "cell_type": "code",
   "execution_count": 31,
   "id": "ae84754d-c2b2-433e-8c63-d53629576d96",
   "metadata": {},
   "outputs": [
    {
     "name": "stdout",
     "output_type": "stream",
     "text": [
      "epoch 1: w = 0.300, loss = 30.00000000\n",
      "epoch 2: w = 0.555, loss = 21.67499924\n",
      "epoch 3: w = 0.772, loss = 15.66018677\n",
      "epoch 4: w = 0.956, loss = 11.31448555\n",
      "epoch 5: w = 1.113, loss = 8.17471600\n",
      "epoch 6: w = 1.246, loss = 5.90623236\n",
      "epoch 7: w = 1.359, loss = 4.26725292\n",
      "epoch 8: w = 1.455, loss = 3.08308983\n",
      "epoch 9: w = 1.537, loss = 2.22753215\n",
      "epoch 10: w = 1.606, loss = 1.60939264\n",
      "epoch 11: w = 1.665, loss = 1.16278565\n",
      "epoch 12: w = 1.716, loss = 0.84011310\n",
      "epoch 13: w = 1.758, loss = 0.60698175\n",
      "epoch 14: w = 1.794, loss = 0.43854395\n",
      "epoch 15: w = 1.825, loss = 0.31684822\n",
      "epoch 16: w = 1.851, loss = 0.22892293\n",
      "epoch 17: w = 1.874, loss = 0.16539653\n",
      "epoch 18: w = 1.893, loss = 0.11949898\n",
      "epoch 19: w = 1.909, loss = 0.08633806\n",
      "epoch 20: w = 1.922, loss = 0.06237932\n",
      "epoch 21: w = 1.934, loss = 0.04506905\n",
      "epoch 22: w = 1.944, loss = 0.03256244\n",
      "epoch 23: w = 1.952, loss = 0.02352631\n",
      "epoch 24: w = 1.960, loss = 0.01699772\n",
      "epoch 25: w = 1.966, loss = 0.01228092\n",
      "Prediction after training: f(5) = 9.828\n"
     ]
    }
   ],
   "source": [
    "#Training \n",
    "learning_rate=0.01\n",
    "n_iterate=25\n",
    "\n",
    "for epoch in range(n_iterate):\n",
    "    #predict =forword pass\n",
    "    y_predict=forward(X)\n",
    "    \n",
    "    #loss\n",
    "    l=loss(Y,y_predict)\n",
    "    \n",
    "    #calculate gradient\n",
    "    dw=gradient(X,Y,y_predict)\n",
    "    \n",
    "    #update the weight\n",
    "    w-=learning_rate*dw\n",
    "    print(f'epoch {epoch+1}: w = {w:.3f}, loss = {l:.8f}')\n",
    "     \n",
    "print(f'Prediction after training: f(5) = {forward(5):.3f}')"
   ]
  },
  {
   "cell_type": "code",
   "execution_count": null,
   "id": "6184d35c-db2c-4c4a-a0f6-842815058e62",
   "metadata": {},
   "outputs": [],
   "source": []
  }
 ],
 "metadata": {
  "kernelspec": {
   "display_name": "Python 3 (ipykernel)",
   "language": "python",
   "name": "python3"
  },
  "language_info": {
   "codemirror_mode": {
    "name": "ipython",
    "version": 3
   },
   "file_extension": ".py",
   "mimetype": "text/x-python",
   "name": "python",
   "nbconvert_exporter": "python",
   "pygments_lexer": "ipython3",
   "version": "3.10.11"
  }
 },
 "nbformat": 4,
 "nbformat_minor": 5
}
